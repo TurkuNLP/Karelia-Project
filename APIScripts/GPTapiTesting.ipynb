{
 "cells": [
  {
   "cell_type": "code",
   "execution_count": 1,
   "metadata": {},
   "outputs": [],
   "source": [
    "import openai\n",
    "import json\n",
    "\n",
    "import os\n",
    "from dotenv import load_dotenv\n",
    "\n",
    "# Load API Key from .env file\n",
    "load_dotenv()\n",
    "api_key = os.getenv('OPENAI_API_KEY')\n",
    "\n",
    "# Configure OpenAI API client\n",
    "openai.api_key = api_key"
   ]
  },
  {
   "cell_type": "code",
   "execution_count": 2,
   "metadata": {},
   "outputs": [],
   "source": [
    "with open('testData.json', 'r') as f:\n",
    "    data = json.load(f)\n"
   ]
  },
  {
   "cell_type": "code",
   "execution_count": 6,
   "metadata": {},
   "outputs": [],
   "source": [
    "\n",
    "# Ensure the apiResponse directory exists\n",
    "if not os.path.exists('apiResponse'):\n",
    "    os.makedirs('apiResponse')\n",
    "\n",
    "# Example of batching\n",
    "batch_size = 3\n",
    "for i in range(0, len(data), batch_size):\n",
    "    batch = data[i:i + batch_size]\n",
    "    data_str = json.dumps(batch)\n",
    "\n",
    "    messages = [\n",
    "        {\"role\": \"system\", \"content\": \"You are a helpful assistant.\"},\n",
    "        {\"role\": \"user\", \"content\": (\n",
    "            \"I need you to scrape data from this text. List only name, index number, hobbies and social organisations. \"\n",
    "            \"Notice to list spouse's hobbies and social orgs separately. Do not list jobs, or war time occupations. \"\n",
    "            \"Do not suggest to make an algorithm. If no social orgs detected respond: - \"\n",
    "            \"Do not say anything but the asked information. \"\n",
    "            \"Response in format: \"\n",
    "            \"--\"\n",
    "            \"IndexID: \"\n",
    "            \"PersonName: \"\n",
    "            \"PersonHobbies: \"\n",
    "            \"PersonSocialOrgs: \"\n",
    "            \"SpouseName:\"\n",
    "            \"SpouseHobbies: \"\n",
    "            \"SpouseSocialOrgs: \"\n",
    "            + data_str\n",
    "        )}\n",
    "    ]\n",
    "\n",
    "    # API call\n",
    "    try:\n",
    "        response = openai.ChatCompletion.create(\n",
    "            model=\"gpt-3.5-turbo\",\n",
    "            messages=messages,\n",
    "           temperature=0.8\n",
    "        )\n",
    "        \n",
    "        # Splitting on '--' to separate individual responses\n",
    "        responses = response['choices'][0]['message']['content'].split('--')[1:] \n",
    "        \n",
    "        # Storing responses along with batch and individual indexes\n",
    "        structured_responses = []\n",
    "        for j, api_response in enumerate(responses):\n",
    "            structured_responses.append({\n",
    "                \"batch_number\": i//batch_size,\n",
    "                \"person_index\": i + j,\n",
    "                \"api_response\": api_response.strip()  # Removing leading/trailing whitespaces\n",
    "            })\n",
    "\n",
    "        output_file_path = 'apiResponse/all_responses.json'\n",
    "\n",
    "# Save/Append the batch response to the file\n",
    "        with open(output_file_path, 'a', encoding='utf-8') as file:\n",
    "            for item in structured_responses:\n",
    "                json.dump(item, file, ensure_ascii=False)\n",
    "                file.write('\\n')\n",
    "\n",
    "    except Exception as e:\n",
    "        print(f\"Error in batch starting at index {i}: {str(e)}\")\n",
    "\n"
   ]
  }
 ],
 "metadata": {
  "kernelspec": {
   "display_name": "Python 3",
   "language": "python",
   "name": "python3"
  },
  "language_info": {
   "codemirror_mode": {
    "name": "ipython",
    "version": 3
   },
   "file_extension": ".py",
   "mimetype": "text/x-python",
   "name": "python",
   "nbconvert_exporter": "python",
   "pygments_lexer": "ipython3",
   "version": "3.10.12"
  },
  "orig_nbformat": 4
 },
 "nbformat": 4,
 "nbformat_minor": 2
}
